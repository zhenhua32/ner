{
 "cells": [
  {
   "cell_type": "code",
   "execution_count": 22,
   "metadata": {},
   "outputs": [],
   "source": [
    "import os\n",
    "import json\n",
    "\n",
    "import torch\n",
    "\n",
    "from utils_tools import load_vocabulary, extract_kvpairs_in_bio\n",
    "from lstm_models import LSTMModel, LSTMCRFModel"
   ]
  },
  {
   "cell_type": "code",
   "execution_count": 5,
   "metadata": {},
   "outputs": [
    {
     "name": "stdout",
     "output_type": "stream",
     "text": [
      "d:\\code\\github\\ner\n",
      "load vocab from: d:\\code\\github\\ner\\./data/resume-zh/vocab_char.txt, containing words: 4295\n",
      "load vocab from: d:\\code\\github\\ner\\./data/resume-zh/vocab_bioattr.txt, containing words: 17\n"
     ]
    }
   ],
   "source": [
    "# 使用 os.path.abspath(\"\") 可获取当前脚本所在的目录\n",
    "root_path = os.path.dirname(os.path.abspath(\"\"))\n",
    "print(root_path)\n",
    "device = \"cuda\" if torch.cuda.is_available() else \"cpu\"\n",
    "# 加载词汇表\n",
    "vocab_char_path = os.path.join(root_path, \"./data/resume-zh/vocab_char.txt\")\n",
    "vocab_bioattr_path = os.path.join(root_path, \"./data/resume-zh/vocab_bioattr.txt\")\n",
    "w2i_char, i2w_char = load_vocabulary(vocab_char_path)\n",
    "w2i_bio, i2w_bio = load_vocabulary(vocab_bioattr_path)"
   ]
  },
  {
   "cell_type": "code",
   "execution_count": 7,
   "metadata": {},
   "outputs": [
    {
     "data": {
      "text/plain": [
       "LSTMModel(\n",
       "  (embedding): Embedding(4295, 300)\n",
       "  (lstm): LSTM(300, 300, batch_first=True, bidirectional=True)\n",
       "  (linear): Linear(in_features=600, out_features=17, bias=True)\n",
       ")"
      ]
     },
     "execution_count": 7,
     "metadata": {},
     "output_type": "execute_result"
    }
   ],
   "source": [
    "lstm_model_path = os.path.join(root_path, \"./ckpt/lstm_model.pt\")\n",
    "crf_model_path = os.path.join(root_path, \"./ckpt/lstm_crf_model.pt\")\n",
    "\n",
    "# 加载模型, 这种加载方式需要保存下类的初始化参数\n",
    "lstm_model = LSTMModel(\n",
    "    num_embeddings=len(w2i_char),\n",
    "    output_size=len(w2i_bio),\n",
    "    embedding_dim=300,\n",
    "    hidden_size=300,\n",
    ")\n",
    "lstm_model.load_state_dict(torch.load(lstm_model_path))\n",
    "lstm_model.eval()"
   ]
  },
  {
   "cell_type": "code",
   "execution_count": 9,
   "metadata": {},
   "outputs": [
    {
     "data": {
      "text/plain": [
       "{'sentence': ['常', '建', '良', '，', '男', '，'],\n",
       " 'ner': [{'index': [0, 1, 2], 'type': 'NAME'}],\n",
       " 'word': [[0], [1, 2], [3], [4], [5]]}"
      ]
     },
     "execution_count": 9,
     "metadata": {},
     "output_type": "execute_result"
    }
   ],
   "source": [
    "test_file = os.path.join(root_path, \"./data/resume-zh/test.json\")\n",
    "with open(test_file, \"r\", encoding=\"utf-8\") as f:\n",
    "    test_data = json.load(f)\n",
    "\n",
    "test_data[0]"
   ]
  },
  {
   "cell_type": "code",
   "execution_count": 24,
   "metadata": {},
   "outputs": [
    {
     "name": "stdout",
     "output_type": "stream",
     "text": [
      "现任大股东无锡产业发展集团有限公司董事局董事、无锡威孚高科技集团股份有限公司党委书记。\n",
      "ORG 大股东无锡产业发展集团有限公司\n",
      "TITLE 董事局董事\n",
      "ORG 无锡威孚高科技集团股份有限公司\n",
      "TITLE 党委书记\n"
     ]
    }
   ],
   "source": [
    "index = 10\n",
    "data = test_data[index]\n",
    "sentence = data[\"sentence\"]\n",
    "ner = data[\"ner\"]\n",
    "print(\"\".join(sentence))\n",
    "\n",
    "for x in ner:\n",
    "    print(x[\"type\"], \"\".join(sentence[i] for i in x[\"index\"]))"
   ]
  },
  {
   "cell_type": "code",
   "execution_count": 25,
   "metadata": {},
   "outputs": [
    {
     "name": "stdout",
     "output_type": "stream",
     "text": [
      "(43,)\n",
      "[ 0  0  9 10 10 10 10 10 10 10 10 10 10 10 10 10 10 15 16 16 16 16  0  9\n",
      " 10 10 10 10 10 10 10 10 10 10 10 10 10 10 15 16 16 16  0]\n",
      "['O', 'O', 'B-ORG', 'I-ORG', 'I-ORG', 'I-ORG', 'I-ORG', 'I-ORG', 'I-ORG', 'I-ORG', 'I-ORG', 'I-ORG', 'I-ORG', 'I-ORG', 'I-ORG', 'I-ORG', 'I-ORG', 'B-TITLE', 'I-TITLE', 'I-TITLE', 'I-TITLE', 'I-TITLE', 'O', 'B-ORG', 'I-ORG', 'I-ORG', 'I-ORG', 'I-ORG', 'I-ORG', 'I-ORG', 'I-ORG', 'I-ORG', 'I-ORG', 'I-ORG', 'I-ORG', 'I-ORG', 'I-ORG', 'I-ORG', 'B-TITLE', 'I-TITLE', 'I-TITLE', 'I-TITLE', 'O']\n",
      "{('ORG', '无锡威孚高科技集团股份有限公司'), ('TITLE', '董事局董事'), ('TITLE', '党委书记'), ('ORG', '大股东无锡产业发展集团有限公司')}\n"
     ]
    }
   ],
   "source": [
    "x = [w2i_char.get(w, 0) for w in sentence]\n",
    "x = torch.tensor(x, dtype=torch.long).unsqueeze(0)\n",
    "y = lstm_model.predict(x).squeeze(0).cpu().numpy()\n",
    "print(y.shape)\n",
    "print(y)\n",
    "y = [i2w_bio[x] for x in y]\n",
    "print(y)\n",
    "\n",
    "# 从 BIO 序列中提取出 K-V 对\n",
    "kvpairs = extract_kvpairs_in_bio(y, list(sentence))\n",
    "print(kvpairs)"
   ]
  }
 ],
 "metadata": {
  "kernelspec": {
   "display_name": "nlp",
   "language": "python",
   "name": "python3"
  },
  "language_info": {
   "codemirror_mode": {
    "name": "ipython",
    "version": 3
   },
   "file_extension": ".py",
   "mimetype": "text/x-python",
   "name": "python",
   "nbconvert_exporter": "python",
   "pygments_lexer": "ipython3",
   "version": "3.8.12"
  },
  "orig_nbformat": 4,
  "vscode": {
   "interpreter": {
    "hash": "b7c70413a5810a6397efd487546398fda6db6fc006e875c25a748979a67c1938"
   }
  }
 },
 "nbformat": 4,
 "nbformat_minor": 2
}
