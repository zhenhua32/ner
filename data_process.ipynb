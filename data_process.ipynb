{
 "cells": [
  {
   "cell_type": "code",
   "execution_count": 5,
   "metadata": {},
   "outputs": [],
   "source": [
    "import ujson as json\n",
    "import os\n",
    "import pandas as pd"
   ]
  },
  {
   "cell_type": "code",
   "execution_count": 4,
   "metadata": {},
   "outputs": [
    {
     "name": "stdout",
     "output_type": "stream",
     "text": [
      "Looking in indexes: https://mirrors.aliyun.com/pypi/simple/\n",
      "Collecting pandas\n",
      "  Downloading https://mirrors.aliyun.com/pypi/packages/d9/cd/f27c2992cbe05a3e39937f73a4be635a9ec149ec3ca4467d8cf039718994/pandas-1.5.3-cp310-cp310-win_amd64.whl (10.4 MB)\n",
      "     ---------------------------------------- 10.4/10.4 MB 1.2 MB/s eta 0:00:00\n",
      "Requirement already satisfied: python-dateutil>=2.8.1 in c:\\anaconda3\\envs\\torch\\lib\\site-packages (from pandas) (2.8.2)\n",
      "Requirement already satisfied: numpy>=1.21.0 in c:\\anaconda3\\envs\\torch\\lib\\site-packages (from pandas) (1.23.5)\n",
      "Collecting pytz>=2020.1\n",
      "  Downloading https://mirrors.aliyun.com/pypi/packages/2e/09/fbd3c46dce130958ee8e0090f910f1fe39e502cc5ba0aadca1e8a2b932e5/pytz-2022.7.1-py2.py3-none-any.whl (499 kB)\n",
      "     -------------------------------------- 499.4/499.4 kB 1.1 MB/s eta 0:00:00\n",
      "Requirement already satisfied: six>=1.5 in c:\\anaconda3\\envs\\torch\\lib\\site-packages (from python-dateutil>=2.8.1->pandas) (1.16.0)\n",
      "Installing collected packages: pytz, pandas\n",
      "Successfully installed pandas-1.5.3 pytz-2022.7.1\n"
     ]
    },
    {
     "name": "stderr",
     "output_type": "stream",
     "text": [
      "\n",
      "[notice] A new release of pip available: 22.3.1 -> 23.0\n",
      "[notice] To update, run: python.exe -m pip install --upgrade pip\n"
     ]
    }
   ],
   "source": [
    "!pip install pandas"
   ]
  },
  {
   "cell_type": "code",
   "execution_count": 6,
   "metadata": {},
   "outputs": [
    {
     "name": "stdout",
     "output_type": "stream",
     "text": [
      "3819\n"
     ]
    }
   ],
   "source": [
    "file = \"./data/resume-zh/train.json\"\n",
    "with open(file, 'r') as f:\n",
    "    data = json.load(f)\n",
    "print(len(data))"
   ]
  },
  {
   "cell_type": "code",
   "execution_count": 7,
   "metadata": {},
   "outputs": [
    {
     "data": {
      "text/plain": [
       "{'sentence': ['高',\n",
       "  '勇',\n",
       "  '：',\n",
       "  '男',\n",
       "  '，',\n",
       "  '中',\n",
       "  '国',\n",
       "  '国',\n",
       "  '籍',\n",
       "  '，',\n",
       "  '无',\n",
       "  '境',\n",
       "  '外',\n",
       "  '居',\n",
       "  '留',\n",
       "  '权',\n",
       "  '，'],\n",
       " 'ner': [{'index': [0, 1], 'type': 'NAME'},\n",
       "  {'index': [5, 6, 7, 8], 'type': 'CONT'}],\n",
       " 'word': [[0, 1],\n",
       "  [2],\n",
       "  [3],\n",
       "  [4],\n",
       "  [5, 6],\n",
       "  [7, 8],\n",
       "  [9],\n",
       "  [10],\n",
       "  [11, 12],\n",
       "  [13, 14, 15],\n",
       "  [16]]}"
      ]
     },
     "execution_count": 7,
     "metadata": {},
     "output_type": "execute_result"
    }
   ],
   "source": [
    "data[0]"
   ]
  },
  {
   "cell_type": "code",
   "execution_count": 10,
   "metadata": {},
   "outputs": [
    {
     "name": "stdout",
     "output_type": "stream",
     "text": [
      "8\n",
      "['CONT', 'EDU', 'LOC', 'NAME', 'ORG', 'PRO', 'RACE', 'TITLE']\n"
     ]
    }
   ],
   "source": [
    "label_set = set()\n",
    "for item in data:\n",
    "    for entity in item[\"ner\"]:\n",
    "        label_set.add(entity[\"type\"])\n",
    "\n",
    "labels = sorted(list(label_set))\n",
    "print(len(labels))\n",
    "print(labels)"
   ]
  },
  {
   "cell_type": "code",
   "execution_count": 11,
   "metadata": {},
   "outputs": [],
   "source": [
    "data_dir = \"./data/resume-zh/\"\n",
    "\n",
    "bioattr_file = os.path.join(data_dir, \"vocab_bioattr.txt\")\n",
    "with open(bioattr_file, \"w\", encoding=\"utf-8\") as f:\n",
    "    f.write(\"O\\n\")\n",
    "    for label in labels:\n",
    "        f.write(f\"B-{label}\\n\")\n",
    "        f.write(f\"I-{label}\\n\")"
   ]
  },
  {
   "cell_type": "code",
   "execution_count": null,
   "metadata": {},
   "outputs": [],
   "source": [
    "# 生成对应格式的文件\n"
   ]
  }
 ],
 "metadata": {
  "kernelspec": {
   "display_name": "Python 3.10.8 ('torch')",
   "language": "python",
   "name": "python3"
  },
  "language_info": {
   "codemirror_mode": {
    "name": "ipython",
    "version": 3
   },
   "file_extension": ".py",
   "mimetype": "text/x-python",
   "name": "python",
   "nbconvert_exporter": "python",
   "pygments_lexer": "ipython3",
   "version": "3.10.8"
  },
  "orig_nbformat": 4,
  "vscode": {
   "interpreter": {
    "hash": "6690bc6cf95529c45a9469b9abcb090e359ebff846887d81242bd56640757ed0"
   }
  }
 },
 "nbformat": 4,
 "nbformat_minor": 2
}
